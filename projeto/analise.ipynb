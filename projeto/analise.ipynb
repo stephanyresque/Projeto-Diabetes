{
 "cells": [
  {
   "cell_type": "markdown",
   "metadata": {},
   "source": [
    "# Análise exploratória dos dados (EDA)"
   ]
  },
  {
   "cell_type": "markdown",
   "metadata": {},
   "source": [
    "O diabetes é uma doença crônica grave na qual os indivíduos perdem a capacidade de regular efetivamente os níveis de glicose no sangue e pode levar a uma redução na qualidade de vida e na expectativa de vida.\n",
    "\n",
    "O Sistema de Vigilância de Fatores de Risco Comportamentais (BRFSS) é uma pesquisa telefônica relacionada à saúde que é coletada anualmente pelo CDC (Centro de Controle e Prevenção de Doenças dos Estados Unidos). A cada ano, a pesquisa coleta respostas de milhares de americanos sobre comportamentos de risco relacionados à saúde, condições crônicas de saúde e o uso de serviços preventivos. Para este projeto, foi utilizado conjunto de dados disponível no Kaggle para o ano de 2015. \n",
    "\n",
    "https://www.kaggle.com/datasets/alexteboul/diabetes-health-indicators-dataset"
   ]
  },
  {
   "cell_type": "markdown",
   "metadata": {},
   "source": [
    "Dicionário de variáveis:\n",
    "\n",
    "- `Diabetes_binary`: 0 = sem diabetes, 1 = com diabetes\n",
    "- `HighBP`: 0 = sem pressão alta, 1 = com pressão alta\n",
    "- `HighChol`: 0 = sem colesterol alto, 1 = com colesterol alto\n",
    "- `CholCheck`: 0 = não fez exame de colesterol na vida, 1 = fez exame de colesterol alguma vez\n",
    "- `BMI`: Índice de Massa Corporal (IMC)\n",
    "- `Smoker`: 0 = não fumante, 1 = fumante\n",
    "- `Stroke`: 0 = sem histórico de AVC, 1 = com histórico de AVC\n",
    "- `HeartDiseaseorAttack`: 0 = sem histórico de doença cardíaca ou ataque cardíaco, 1 = com histórico de doença cardíaca ou ataque cardíaco\n",
    "- `PhysActivity`: 0 = não pratica atividade física, 1 = pratica atividade física\n",
    "- `Fruits`: 0 = não consome frutas, 1 = consome frutas\n",
    "- `Veggies`: 0 = não consome vegetais, 1 = consome vegetais\n",
    "- `HvyAlcoholConsump`: 0 = não consome álcool em altas quantidades, 1 = consome álcool em altas quantidades\n",
    "- `AnyHealthcare`: 0 = não tem plano de saúde, 1 = tem plano de saúde\n",
    "- `NoDocbcCost`: 0 = não foi ao médico por questões financeiras, 1 = foi ao médico por questões financeiras (últimos 12 meses)\n",
    "- `GenHlth`: Saúde geral (1 a 5) - 1 = Excelente, 2 = Muito boa, 3 = Boa, 4 = Aceitável, 5 = Ruim\n",
    "- `MentHlth`: Nos últimos 30 dias, quantos dias a saúde mental não foi boa (0 a 30)\n",
    "- `PhysHlth`: Nos últimos 30 dias, quantos dias a saúde física não foi boa (0 a 30)\n",
    "- `DiffWalk`: 0 = não tem dificuldade para caminhar, 1 = tem dificuldade para caminhar\n",
    "- `Sex`: 0 = feminino, 1 = masculino\n",
    "- `Age`: Idade em faixas 1 = 18-24; 2 = 25-29; 3 = 30-34; 4 = 35-39; 5 = 40-44; 6 = 45-49; 7 = 50-54; 8 = 55-59; 9 = 60-64; 10 = 65-69; 11 = 70-74; 12 = 75-79; 13 = 80+\n",
    "- `Education`: Níveis de ensino 1 = nunca frequentou a escola; 2 = escola primária; 3 = escola secundária incompleta ; 4 = escola secundária; 5 = faculdade incompleta ou curso técnico; 6 = completou faculdade ou diplomas superiores\n",
    "- `Income`: Renda anual (dólares) em faixas 1 = < 10.000; 2 = 10.000-14.999; 3 = 15.000-19.999; 4 = 20.000-24.999; 5 = 25.000-34.999; 6 = 35.000-49.999; 7 = 50.000-74.999; 8 = 75.000+"
   ]
  },
  {
   "cell_type": "code",
   "execution_count": 1,
   "metadata": {},
   "outputs": [],
   "source": [
    "PATH = 'C:\\\\Users\\\\steph\\\\OneDrive\\\\Documentos\\\\MeusProjetos\\\\Ciencia-de-dados\\\\dados_hash\\\\'"
   ]
  },
  {
   "cell_type": "code",
   "execution_count": 2,
   "metadata": {
    "metadata": {}
   },
   "outputs": [
    {
     "data": {
      "text/html": [
       "<div>\n",
       "<style scoped>\n",
       "    .dataframe tbody tr th:only-of-type {\n",
       "        vertical-align: middle;\n",
       "    }\n",
       "\n",
       "    .dataframe tbody tr th {\n",
       "        vertical-align: top;\n",
       "    }\n",
       "\n",
       "    .dataframe thead th {\n",
       "        text-align: right;\n",
       "    }\n",
       "</style>\n",
       "<table border=\"1\" class=\"dataframe\">\n",
       "  <thead>\n",
       "    <tr style=\"text-align: right;\">\n",
       "      <th></th>\n",
       "      <th>Diabetes</th>\n",
       "      <th>PressaoAlta</th>\n",
       "      <th>ColesterolAlto</th>\n",
       "      <th>ColesterolExame</th>\n",
       "      <th>IMC</th>\n",
       "      <th>Fumante</th>\n",
       "      <th>AVC</th>\n",
       "      <th>ProblemaCardiaco</th>\n",
       "      <th>AtividadeFisica</th>\n",
       "      <th>ComeFrutas</th>\n",
       "      <th>...</th>\n",
       "      <th>PlanoSaude</th>\n",
       "      <th>SemDinheiroConsultas</th>\n",
       "      <th>SaudeGeral</th>\n",
       "      <th>DiasProblemasMentais</th>\n",
       "      <th>DiasProblemasFisicos</th>\n",
       "      <th>DificuldadeAndar</th>\n",
       "      <th>Genero</th>\n",
       "      <th>FaixaIdade</th>\n",
       "      <th>Ensino</th>\n",
       "      <th>FaixaRenda</th>\n",
       "    </tr>\n",
       "  </thead>\n",
       "  <tbody>\n",
       "    <tr>\n",
       "      <th>0</th>\n",
       "      <td>Não</td>\n",
       "      <td>Sim</td>\n",
       "      <td>Não</td>\n",
       "      <td>Sim</td>\n",
       "      <td>26</td>\n",
       "      <td>Não</td>\n",
       "      <td>Não</td>\n",
       "      <td>Não</td>\n",
       "      <td>Sim</td>\n",
       "      <td>Não</td>\n",
       "      <td>...</td>\n",
       "      <td>Sim</td>\n",
       "      <td>Não</td>\n",
       "      <td>Boa</td>\n",
       "      <td>5</td>\n",
       "      <td>30</td>\n",
       "      <td>Não</td>\n",
       "      <td>Masculino</td>\n",
       "      <td>35-39</td>\n",
       "      <td>Faculdade +</td>\n",
       "      <td>$75.000+</td>\n",
       "    </tr>\n",
       "    <tr>\n",
       "      <th>1</th>\n",
       "      <td>Não</td>\n",
       "      <td>Sim</td>\n",
       "      <td>Sim</td>\n",
       "      <td>Sim</td>\n",
       "      <td>26</td>\n",
       "      <td>Sim</td>\n",
       "      <td>Sim</td>\n",
       "      <td>Não</td>\n",
       "      <td>Não</td>\n",
       "      <td>Sim</td>\n",
       "      <td>...</td>\n",
       "      <td>Sim</td>\n",
       "      <td>Não</td>\n",
       "      <td>Boa</td>\n",
       "      <td>0</td>\n",
       "      <td>0</td>\n",
       "      <td>Não</td>\n",
       "      <td>Masculino</td>\n",
       "      <td>75-79</td>\n",
       "      <td>Faculdade +</td>\n",
       "      <td>$75.000+</td>\n",
       "    </tr>\n",
       "    <tr>\n",
       "      <th>2</th>\n",
       "      <td>Não</td>\n",
       "      <td>Não</td>\n",
       "      <td>Não</td>\n",
       "      <td>Sim</td>\n",
       "      <td>26</td>\n",
       "      <td>Não</td>\n",
       "      <td>Não</td>\n",
       "      <td>Não</td>\n",
       "      <td>Sim</td>\n",
       "      <td>Sim</td>\n",
       "      <td>...</td>\n",
       "      <td>Sim</td>\n",
       "      <td>Não</td>\n",
       "      <td>Excelente</td>\n",
       "      <td>0</td>\n",
       "      <td>10</td>\n",
       "      <td>Não</td>\n",
       "      <td>Masculino</td>\n",
       "      <td>80+</td>\n",
       "      <td>Faculdade +</td>\n",
       "      <td>$75.000+</td>\n",
       "    </tr>\n",
       "    <tr>\n",
       "      <th>3</th>\n",
       "      <td>Não</td>\n",
       "      <td>Sim</td>\n",
       "      <td>Sim</td>\n",
       "      <td>Sim</td>\n",
       "      <td>28</td>\n",
       "      <td>Sim</td>\n",
       "      <td>Não</td>\n",
       "      <td>Não</td>\n",
       "      <td>Sim</td>\n",
       "      <td>Sim</td>\n",
       "      <td>...</td>\n",
       "      <td>Sim</td>\n",
       "      <td>Não</td>\n",
       "      <td>Boa</td>\n",
       "      <td>0</td>\n",
       "      <td>3</td>\n",
       "      <td>Não</td>\n",
       "      <td>Masculino</td>\n",
       "      <td>70-74</td>\n",
       "      <td>Faculdade +</td>\n",
       "      <td>$75.000+</td>\n",
       "    </tr>\n",
       "    <tr>\n",
       "      <th>4</th>\n",
       "      <td>Não</td>\n",
       "      <td>Não</td>\n",
       "      <td>Não</td>\n",
       "      <td>Sim</td>\n",
       "      <td>29</td>\n",
       "      <td>Sim</td>\n",
       "      <td>Não</td>\n",
       "      <td>Não</td>\n",
       "      <td>Sim</td>\n",
       "      <td>Sim</td>\n",
       "      <td>...</td>\n",
       "      <td>Sim</td>\n",
       "      <td>Não</td>\n",
       "      <td>Muito boa</td>\n",
       "      <td>0</td>\n",
       "      <td>0</td>\n",
       "      <td>Não</td>\n",
       "      <td>Feminino</td>\n",
       "      <td>55-59</td>\n",
       "      <td>Faculdade inc. ou Técnico</td>\n",
       "      <td>$75.000+</td>\n",
       "    </tr>\n",
       "  </tbody>\n",
       "</table>\n",
       "<p>5 rows × 22 columns</p>\n",
       "</div>"
      ],
      "text/plain": [
       "  Diabetes PressaoAlta ColesterolAlto ColesterolExame  IMC Fumante  AVC  \\\n",
       "0      Não         Sim            Não             Sim   26     Não  Não   \n",
       "1      Não         Sim            Sim             Sim   26     Sim  Sim   \n",
       "2      Não         Não            Não             Sim   26     Não  Não   \n",
       "3      Não         Sim            Sim             Sim   28     Sim  Não   \n",
       "4      Não         Não            Não             Sim   29     Sim  Não   \n",
       "\n",
       "  ProblemaCardiaco AtividadeFisica ComeFrutas  ... PlanoSaude  \\\n",
       "0              Não             Sim        Não  ...        Sim   \n",
       "1              Não             Não        Sim  ...        Sim   \n",
       "2              Não             Sim        Sim  ...        Sim   \n",
       "3              Não             Sim        Sim  ...        Sim   \n",
       "4              Não             Sim        Sim  ...        Sim   \n",
       "\n",
       "  SemDinheiroConsultas SaudeGeral DiasProblemasMentais DiasProblemasFisicos  \\\n",
       "0                  Não        Boa                    5                   30   \n",
       "1                  Não        Boa                    0                    0   \n",
       "2                  Não  Excelente                    0                   10   \n",
       "3                  Não        Boa                    0                    3   \n",
       "4                  Não  Muito boa                    0                    0   \n",
       "\n",
       "   DificuldadeAndar     Genero FaixaIdade                     Ensino  \\\n",
       "0               Não  Masculino      35-39                Faculdade +   \n",
       "1               Não  Masculino      75-79                Faculdade +   \n",
       "2               Não  Masculino        80+                Faculdade +   \n",
       "3               Não  Masculino      70-74                Faculdade +   \n",
       "4               Não   Feminino      55-59  Faculdade inc. ou Técnico   \n",
       "\n",
       "  FaixaRenda  \n",
       "0   $75.000+  \n",
       "1   $75.000+  \n",
       "2   $75.000+  \n",
       "3   $75.000+  \n",
       "4   $75.000+  \n",
       "\n",
       "[5 rows x 22 columns]"
      ]
     },
     "execution_count": 2,
     "metadata": {},
     "output_type": "execute_result"
    }
   ],
   "source": [
    "import pandas as pd\n",
    "\n",
    "BASE_DIABETES_TRATADA =f\"{PATH}diabetes_tratado.parquet\"\n",
    "\n",
    "df = pd.read_parquet(BASE_DIABETES_TRATADA)\n",
    "\n",
    "df.head()"
   ]
  },
  {
   "cell_type": "code",
   "execution_count": 3,
   "metadata": {},
   "outputs": [
    {
     "name": "stdout",
     "output_type": "stream",
     "text": [
      "<class 'pandas.core.frame.DataFrame'>\n",
      "RangeIndex: 70692 entries, 0 to 70691\n",
      "Data columns (total 22 columns):\n",
      " #   Column                  Non-Null Count  Dtype   \n",
      "---  ------                  --------------  -----   \n",
      " 0   Diabetes                70692 non-null  category\n",
      " 1   PressaoAlta             70692 non-null  category\n",
      " 2   ColesterolAlto          70692 non-null  category\n",
      " 3   ColesterolExame         70692 non-null  category\n",
      " 4   IMC                     70692 non-null  int8    \n",
      " 5   Fumante                 70692 non-null  category\n",
      " 6   AVC                     70692 non-null  category\n",
      " 7   ProblemaCardiaco        70692 non-null  category\n",
      " 8   AtividadeFisica         70692 non-null  category\n",
      " 9   ComeFrutas              70692 non-null  category\n",
      " 10  ComeLegumes             70692 non-null  category\n",
      " 11  ConsumoBebidaAlcoolica  70692 non-null  category\n",
      " 12  PlanoSaude              70692 non-null  category\n",
      " 13  SemDinheiroConsultas    70692 non-null  category\n",
      " 14  SaudeGeral              70692 non-null  category\n",
      " 15  DiasProblemasMentais    70692 non-null  int8    \n",
      " 16  DiasProblemasFisicos    70692 non-null  int8    \n",
      " 17  DificuldadeAndar        70692 non-null  category\n",
      " 18  Genero                  70692 non-null  category\n",
      " 19  FaixaIdade              70692 non-null  category\n",
      " 20  Ensino                  70692 non-null  category\n",
      " 21  FaixaRenda              70692 non-null  category\n",
      "dtypes: category(19), int8(3)\n",
      "memory usage: 1.5 MB\n"
     ]
    }
   ],
   "source": [
    "df.info()"
   ]
  },
  {
   "cell_type": "code",
   "execution_count": 4,
   "metadata": {},
   "outputs": [],
   "source": [
    "colunas_numericas = df.select_dtypes(include='number').columns.tolist()\n",
    "\n",
    "coluna_alvo = 'Diabetes'\n",
    "\n",
    "colunas_categoricas = df.select_dtypes(include='category').columns.tolist()\n",
    "colunas_categoricas.remove(coluna_alvo)\n",
    "\n",
    "colunas_binarias = df.nunique()[df.nunique() == 2].index.tolist()\n",
    "colunas_binarias.remove(coluna_alvo)\n",
    "\n",
    "colunas_nao_binarias = list(set(colunas_categoricas) - set(colunas_binarias))"
   ]
  },
  {
   "cell_type": "code",
   "execution_count": 5,
   "metadata": {},
   "outputs": [
    {
     "data": {
      "text/plain": [
       "['IMC', 'DiasProblemasMentais', 'DiasProblemasFisicos']"
      ]
     },
     "execution_count": 5,
     "metadata": {},
     "output_type": "execute_result"
    }
   ],
   "source": [
    "colunas_numericas"
   ]
  },
  {
   "cell_type": "code",
   "execution_count": 6,
   "metadata": {},
   "outputs": [
    {
     "data": {
      "text/plain": [
       "'Diabetes'"
      ]
     },
     "execution_count": 6,
     "metadata": {},
     "output_type": "execute_result"
    }
   ],
   "source": [
    "coluna_alvo"
   ]
  },
  {
   "cell_type": "code",
   "execution_count": 7,
   "metadata": {},
   "outputs": [
    {
     "data": {
      "text/plain": [
       "['PressaoAlta',\n",
       " 'ColesterolAlto',\n",
       " 'ColesterolExame',\n",
       " 'Fumante',\n",
       " 'AVC',\n",
       " 'ProblemaCardiaco',\n",
       " 'AtividadeFisica',\n",
       " 'ComeFrutas',\n",
       " 'ComeLegumes',\n",
       " 'ConsumoBebidaAlcoolica',\n",
       " 'PlanoSaude',\n",
       " 'SemDinheiroConsultas',\n",
       " 'SaudeGeral',\n",
       " 'DificuldadeAndar',\n",
       " 'Genero',\n",
       " 'FaixaIdade',\n",
       " 'Ensino',\n",
       " 'FaixaRenda']"
      ]
     },
     "execution_count": 7,
     "metadata": {},
     "output_type": "execute_result"
    }
   ],
   "source": [
    "colunas_categoricas"
   ]
  },
  {
   "cell_type": "code",
   "execution_count": 8,
   "metadata": {},
   "outputs": [
    {
     "data": {
      "text/plain": [
       "['PressaoAlta',\n",
       " 'ColesterolAlto',\n",
       " 'ColesterolExame',\n",
       " 'Fumante',\n",
       " 'AVC',\n",
       " 'ProblemaCardiaco',\n",
       " 'AtividadeFisica',\n",
       " 'ComeFrutas',\n",
       " 'ComeLegumes',\n",
       " 'ConsumoBebidaAlcoolica',\n",
       " 'PlanoSaude',\n",
       " 'SemDinheiroConsultas',\n",
       " 'DificuldadeAndar',\n",
       " 'Genero']"
      ]
     },
     "execution_count": 8,
     "metadata": {},
     "output_type": "execute_result"
    }
   ],
   "source": [
    "colunas_binarias"
   ]
  },
  {
   "cell_type": "code",
   "execution_count": 9,
   "metadata": {},
   "outputs": [
    {
     "data": {
      "text/plain": [
       "['SaudeGeral', 'FaixaRenda', 'FaixaIdade', 'Ensino']"
      ]
     },
     "execution_count": 9,
     "metadata": {},
     "output_type": "execute_result"
    }
   ],
   "source": [
    "colunas_nao_binarias"
   ]
  },
  {
   "cell_type": "markdown",
   "metadata": {},
   "source": [
    "## Variáveis numéricas"
   ]
  },
  {
   "cell_type": "code",
   "execution_count": 11,
   "metadata": {},
   "outputs": [
    {
     "data": {
      "image/png": "[encoded data removed]",
      "text/plain": [
       "<Figure size 1000x400 with 3 Axes>"
      ]
     },
     "metadata": {},
     "output_type": "display_data"
    }
   ],
   "source": [
    "import matplotlib.pyplot as plt\n",
    "import seaborn as sns\n",
    "\n",
    "fig, axs = plt.subplots(1, 3, figsize=(10,4))\n",
    "\n",
    "for ax, coluna in zip(axs, colunas_numericas):\n",
    "    sns.boxplot(data = df, x = coluna_alvo, y = coluna, ax = ax)\n",
    "\n",
    "plt.tight_layout()\n",
    "plt.show()"
   ]
  },
  {
   "cell_type": "code",
   "execution_count": 12,
   "metadata": {},
   "outputs": [
    {
     "data": {
      "image/png": "[encoded data removed]",
      "text/plain": [
       "<Figure size 1000x400 with 3 Axes>"
      ]
     },
     "metadata": {},
     "output_type": "display_data"
    }
   ],
   "source": [
    "import matplotlib.pyplot as plt\n",
    "import seaborn as sns\n",
    "\n",
    "fig, axs = plt.subplots(1, 3, figsize=(10,4))\n",
    "\n",
    "for ax, coluna in zip(axs, colunas_numericas):\n",
    "    sns.histplot(data = df, x = coluna, hue = coluna_alvo, kde = True,ax = ax)\n",
    "\n",
    "plt.tight_layout()\n",
    "plt.show()"
   ]
  },
  {
   "cell_type": "code",
   "execution_count": 15,
   "metadata": {},
   "outputs": [
    {
     "data": {
      "text/html": [
       "<div>\n",
       "<style scoped>\n",
       "    .dataframe tbody tr th:only-of-type {\n",
       "        vertical-align: middle;\n",
       "    }\n",
       "\n",
       "    .dataframe tbody tr th {\n",
       "        vertical-align: top;\n",
       "    }\n",
       "\n",
       "    .dataframe thead th {\n",
       "        text-align: right;\n",
       "    }\n",
       "</style>\n",
       "<table border=\"1\" class=\"dataframe\">\n",
       "  <thead>\n",
       "    <tr style=\"text-align: right;\">\n",
       "      <th></th>\n",
       "      <th>Diabetes</th>\n",
       "      <th>Não</th>\n",
       "      <th>Sim</th>\n",
       "    </tr>\n",
       "  </thead>\n",
       "  <tbody>\n",
       "    <tr>\n",
       "      <th rowspan=\"8\" valign=\"top\">IMC</th>\n",
       "      <th>count</th>\n",
       "      <td>35346.000000</td>\n",
       "      <td>35346.000000</td>\n",
       "    </tr>\n",
       "    <tr>\n",
       "      <th>mean</th>\n",
       "      <td>27.769960</td>\n",
       "      <td>31.944011</td>\n",
       "    </tr>\n",
       "    <tr>\n",
       "      <th>std</th>\n",
       "      <td>6.187636</td>\n",
       "      <td>7.363401</td>\n",
       "    </tr>\n",
       "    <tr>\n",
       "      <th>min</th>\n",
       "      <td>12.000000</td>\n",
       "      <td>13.000000</td>\n",
       "    </tr>\n",
       "    <tr>\n",
       "      <th>25%</th>\n",
       "      <td>24.000000</td>\n",
       "      <td>27.000000</td>\n",
       "    </tr>\n",
       "    <tr>\n",
       "      <th>50%</th>\n",
       "      <td>27.000000</td>\n",
       "      <td>31.000000</td>\n",
       "    </tr>\n",
       "    <tr>\n",
       "      <th>75%</th>\n",
       "      <td>31.000000</td>\n",
       "      <td>35.000000</td>\n",
       "    </tr>\n",
       "    <tr>\n",
       "      <th>max</th>\n",
       "      <td>98.000000</td>\n",
       "      <td>98.000000</td>\n",
       "    </tr>\n",
       "    <tr>\n",
       "      <th rowspan=\"8\" valign=\"top\">DiasProblemasMentais</th>\n",
       "      <th>count</th>\n",
       "      <td>35346.000000</td>\n",
       "      <td>35346.000000</td>\n",
       "    </tr>\n",
       "    <tr>\n",
       "      <th>mean</th>\n",
       "      <td>3.042268</td>\n",
       "      <td>4.461806</td>\n",
       "    </tr>\n",
       "    <tr>\n",
       "      <th>std</th>\n",
       "      <td>7.208408</td>\n",
       "      <td>8.947717</td>\n",
       "    </tr>\n",
       "    <tr>\n",
       "      <th>min</th>\n",
       "      <td>0.000000</td>\n",
       "      <td>0.000000</td>\n",
       "    </tr>\n",
       "    <tr>\n",
       "      <th>25%</th>\n",
       "      <td>0.000000</td>\n",
       "      <td>0.000000</td>\n",
       "    </tr>\n",
       "    <tr>\n",
       "      <th>50%</th>\n",
       "      <td>0.000000</td>\n",
       "      <td>0.000000</td>\n",
       "    </tr>\n",
       "    <tr>\n",
       "      <th>75%</th>\n",
       "      <td>2.000000</td>\n",
       "      <td>3.000000</td>\n",
       "    </tr>\n",
       "    <tr>\n",
       "      <th>max</th>\n",
       "      <td>30.000000</td>\n",
       "      <td>30.000000</td>\n",
       "    </tr>\n",
       "    <tr>\n",
       "      <th rowspan=\"8\" valign=\"top\">DiasProblemasFisicos</th>\n",
       "      <th>count</th>\n",
       "      <td>35346.000000</td>\n",
       "      <td>35346.000000</td>\n",
       "    </tr>\n",
       "    <tr>\n",
       "      <th>mean</th>\n",
       "      <td>3.666355</td>\n",
       "      <td>7.954479</td>\n",
       "    </tr>\n",
       "    <tr>\n",
       "      <th>std</th>\n",
       "      <td>8.098339</td>\n",
       "      <td>11.301491</td>\n",
       "    </tr>\n",
       "    <tr>\n",
       "      <th>min</th>\n",
       "      <td>0.000000</td>\n",
       "      <td>0.000000</td>\n",
       "    </tr>\n",
       "    <tr>\n",
       "      <th>25%</th>\n",
       "      <td>0.000000</td>\n",
       "      <td>0.000000</td>\n",
       "    </tr>\n",
       "    <tr>\n",
       "      <th>50%</th>\n",
       "      <td>0.000000</td>\n",
       "      <td>1.000000</td>\n",
       "    </tr>\n",
       "    <tr>\n",
       "      <th>75%</th>\n",
       "      <td>2.000000</td>\n",
       "      <td>15.000000</td>\n",
       "    </tr>\n",
       "    <tr>\n",
       "      <th>max</th>\n",
       "      <td>30.000000</td>\n",
       "      <td>30.000000</td>\n",
       "    </tr>\n",
       "  </tbody>\n",
       "</table>\n",
       "</div>"
      ],
      "text/plain": [
       "Diabetes                             Não           Sim\n",
       "IMC                  count  35346.000000  35346.000000\n",
       "                     mean      27.769960     31.944011\n",
       "                     std        6.187636      7.363401\n",
       "                     min       12.000000     13.000000\n",
       "                     25%       24.000000     27.000000\n",
       "                     50%       27.000000     31.000000\n",
       "                     75%       31.000000     35.000000\n",
       "                     max       98.000000     98.000000\n",
       "DiasProblemasMentais count  35346.000000  35346.000000\n",
       "                     mean       3.042268      4.461806\n",
       "                     std        7.208408      8.947717\n",
       "                     min        0.000000      0.000000\n",
       "                     25%        0.000000      0.000000\n",
       "                     50%        0.000000      0.000000\n",
       "                     75%        2.000000      3.000000\n",
       "                     max       30.000000     30.000000\n",
       "DiasProblemasFisicos count  35346.000000  35346.000000\n",
       "                     mean       3.666355      7.954479\n",
       "                     std        8.098339     11.301491\n",
       "                     min        0.000000      0.000000\n",
       "                     25%        0.000000      0.000000\n",
       "                     50%        0.000000      1.000000\n",
       "                     75%        2.000000     15.000000\n",
       "                     max       30.000000     30.000000"
      ]
     },
     "execution_count": 15,
     "metadata": {},
     "output_type": "execute_result"
    }
   ],
   "source": [
    "df.groupby(coluna_alvo, observed=False).describe().T"
   ]
  },
  {
   "cell_type": "code",
   "execution_count": 16,
   "metadata": {},
   "outputs": [
    {
     "data": {
      "text/html": [
       "<div>\n",
       "<style scoped>\n",
       "    .dataframe tbody tr th:only-of-type {\n",
       "        vertical-align: middle;\n",
       "    }\n",
       "\n",
       "    .dataframe tbody tr th {\n",
       "        vertical-align: top;\n",
       "    }\n",
       "\n",
       "    .dataframe thead th {\n",
       "        text-align: right;\n",
       "    }\n",
       "</style>\n",
       "<table border=\"1\" class=\"dataframe\">\n",
       "  <thead>\n",
       "    <tr style=\"text-align: right;\">\n",
       "      <th></th>\n",
       "      <th>IMC</th>\n",
       "      <th>DiasProblemasMentais</th>\n",
       "      <th>DiasProblemasFisicos</th>\n",
       "    </tr>\n",
       "  </thead>\n",
       "  <tbody>\n",
       "    <tr>\n",
       "      <th>IMC</th>\n",
       "      <td>1.000000</td>\n",
       "      <td>0.104682</td>\n",
       "      <td>0.161862</td>\n",
       "    </tr>\n",
       "    <tr>\n",
       "      <th>DiasProblemasMentais</th>\n",
       "      <td>0.104682</td>\n",
       "      <td>1.000000</td>\n",
       "      <td>0.380272</td>\n",
       "    </tr>\n",
       "    <tr>\n",
       "      <th>DiasProblemasFisicos</th>\n",
       "      <td>0.161862</td>\n",
       "      <td>0.380272</td>\n",
       "      <td>1.000000</td>\n",
       "    </tr>\n",
       "  </tbody>\n",
       "</table>\n",
       "</div>"
      ],
      "text/plain": [
       "                           IMC  DiasProblemasMentais  DiasProblemasFisicos\n",
       "IMC                   1.000000              0.104682              0.161862\n",
       "DiasProblemasMentais  0.104682              1.000000              0.380272\n",
       "DiasProblemasFisicos  0.161862              0.380272              1.000000"
      ]
     },
     "execution_count": 16,
     "metadata": {},
     "output_type": "execute_result"
    }
   ],
   "source": [
    "df.corr(numeric_only=True)"
   ]
  },
  {
   "cell_type": "markdown",
   "metadata": {},
   "source": [
    "## Faz sentido testar a normalidade das variáveis numéricas?"
   ]
  },
  {
   "cell_type": "code",
   "execution_count": 18,
   "metadata": {},
   "outputs": [
    {
     "data": {
      "text/html": [
       "<div>\n",
       "<style scoped>\n",
       "    .dataframe tbody tr th:only-of-type {\n",
       "        vertical-align: middle;\n",
       "    }\n",
       "\n",
       "    .dataframe tbody tr th {\n",
       "        vertical-align: top;\n",
       "    }\n",
       "\n",
       "    .dataframe thead th {\n",
       "        text-align: right;\n",
       "    }\n",
       "</style>\n",
       "<table border=\"1\" class=\"dataframe\">\n",
       "  <thead>\n",
       "    <tr style=\"text-align: right;\">\n",
       "      <th></th>\n",
       "      <th>IMC</th>\n",
       "      <th>DiasProblemasMentais</th>\n",
       "      <th>DiasProblemasFisicos</th>\n",
       "    </tr>\n",
       "    <tr>\n",
       "      <th>Diabetes</th>\n",
       "      <th></th>\n",
       "      <th></th>\n",
       "      <th></th>\n",
       "    </tr>\n",
       "  </thead>\n",
       "  <tbody>\n",
       "    <tr>\n",
       "      <th>Não</th>\n",
       "      <td>2.231015</td>\n",
       "      <td>2.808070</td>\n",
       "      <td>2.480202</td>\n",
       "    </tr>\n",
       "    <tr>\n",
       "      <th>Sim</th>\n",
       "      <td>1.527018</td>\n",
       "      <td>2.065169</td>\n",
       "      <td>1.150047</td>\n",
       "    </tr>\n",
       "  </tbody>\n",
       "</table>\n",
       "</div>"
      ],
      "text/plain": [
       "               IMC  DiasProblemasMentais  DiasProblemasFisicos\n",
       "Diabetes                                                      \n",
       "Não       2.231015              2.808070              2.480202\n",
       "Sim       1.527018              2.065169              1.150047"
      ]
     },
     "execution_count": 18,
     "metadata": {},
     "output_type": "execute_result"
    }
   ],
   "source": [
    "df.groupby(coluna_alvo, observed=False).skew(numeric_only=True)"
   ]
  },
  {
   "cell_type": "code",
   "execution_count": 20,
   "metadata": {},
   "outputs": [
    {
     "data": {
      "text/html": [
       "<div>\n",
       "<style scoped>\n",
       "    .dataframe tbody tr th:only-of-type {\n",
       "        vertical-align: middle;\n",
       "    }\n",
       "\n",
       "    .dataframe tbody tr th {\n",
       "        vertical-align: top;\n",
       "    }\n",
       "\n",
       "    .dataframe thead th {\n",
       "        text-align: right;\n",
       "    }\n",
       "</style>\n",
       "<table border=\"1\" class=\"dataframe\">\n",
       "  <thead>\n",
       "    <tr style=\"text-align: right;\">\n",
       "      <th></th>\n",
       "      <th>IMC</th>\n",
       "      <th>DiasProblemasMentais</th>\n",
       "      <th>DiasProblemasFisicos</th>\n",
       "    </tr>\n",
       "    <tr>\n",
       "      <th>Diabetes</th>\n",
       "      <th></th>\n",
       "      <th></th>\n",
       "      <th></th>\n",
       "    </tr>\n",
       "  </thead>\n",
       "  <tbody>\n",
       "    <tr>\n",
       "      <th>Não</th>\n",
       "      <td>12.901012</td>\n",
       "      <td>7.012218</td>\n",
       "      <td>4.910598</td>\n",
       "    </tr>\n",
       "    <tr>\n",
       "      <th>Sim</th>\n",
       "      <td>5.717382</td>\n",
       "      <td>2.873176</td>\n",
       "      <td>-0.341922</td>\n",
       "    </tr>\n",
       "  </tbody>\n",
       "</table>\n",
       "</div>"
      ],
      "text/plain": [
       "                IMC  DiasProblemasMentais  DiasProblemasFisicos\n",
       "Diabetes                                                       \n",
       "Não       12.901012              7.012218              4.910598\n",
       "Sim        5.717382              2.873176             -0.341922"
      ]
     },
     "execution_count": 20,
     "metadata": {},
     "output_type": "execute_result"
    }
   ],
   "source": [
    "df.groupby(coluna_alvo, observed=False)[colunas_numericas].apply(pd.DataFrame.kurtosis)"
   ]
  },
  {
   "cell_type": "code",
   "execution_count": 21,
   "metadata": {},
   "outputs": [],
   "source": [
    "dados_imc_sim = df.query(\"Diabetes == 'Sim'\")[\"IMC\"].values\n",
    "dados_imc_nao = df.query(\"Diabetes == 'Não'\")[\"IMC\"].values"
   ]
  },
  {
   "cell_type": "code",
   "execution_count": 23,
   "metadata": {},
   "outputs": [
    {
     "name": "stdout",
     "output_type": "stream",
     "text": [
      "KstestResult(statistic=0.1209153634702329, pvalue=0.0, statistic_location=28, statistic_sign=1)\n",
      "KstestResult(statistic=0.10452803408478695, pvalue=0.0, statistic_location=33, statistic_sign=1)\n"
     ]
    }
   ],
   "source": [
    "from scipy.stats import kstest, norm\n",
    "\n",
    "print(kstest(dados_imc_nao, norm.cdf, args = (dados_imc_nao.mean(), dados_imc_nao.std())))\n",
    "print(kstest(dados_imc_sim, norm.cdf, args = (dados_imc_sim.mean(), dados_imc_sim.std())))"
   ]
  },
  {
   "cell_type": "code",
   "execution_count": 24,
   "metadata": {},
   "outputs": [
    {
     "data": {
      "text/html": [
       "<div>\n",
       "<style scoped>\n",
       "    .dataframe tbody tr th:only-of-type {\n",
       "        vertical-align: middle;\n",
       "    }\n",
       "\n",
       "    .dataframe tbody tr th {\n",
       "        vertical-align: top;\n",
       "    }\n",
       "\n",
       "    .dataframe thead th {\n",
       "        text-align: right;\n",
       "    }\n",
       "</style>\n",
       "<table border=\"1\" class=\"dataframe\">\n",
       "  <thead>\n",
       "    <tr style=\"text-align: right;\">\n",
       "      <th></th>\n",
       "      <th>Sim</th>\n",
       "      <th>Não</th>\n",
       "    </tr>\n",
       "  </thead>\n",
       "  <tbody>\n",
       "    <tr>\n",
       "      <th>0</th>\n",
       "      <td>30</td>\n",
       "      <td>26</td>\n",
       "    </tr>\n",
       "    <tr>\n",
       "      <th>1</th>\n",
       "      <td>25</td>\n",
       "      <td>26</td>\n",
       "    </tr>\n",
       "    <tr>\n",
       "      <th>2</th>\n",
       "      <td>28</td>\n",
       "      <td>26</td>\n",
       "    </tr>\n",
       "    <tr>\n",
       "      <th>3</th>\n",
       "      <td>23</td>\n",
       "      <td>28</td>\n",
       "    </tr>\n",
       "    <tr>\n",
       "      <th>4</th>\n",
       "      <td>27</td>\n",
       "      <td>29</td>\n",
       "    </tr>\n",
       "    <tr>\n",
       "      <th>...</th>\n",
       "      <td>...</td>\n",
       "      <td>...</td>\n",
       "    </tr>\n",
       "    <tr>\n",
       "      <th>35341</th>\n",
       "      <td>37</td>\n",
       "      <td>23</td>\n",
       "    </tr>\n",
       "    <tr>\n",
       "      <th>35342</th>\n",
       "      <td>29</td>\n",
       "      <td>29</td>\n",
       "    </tr>\n",
       "    <tr>\n",
       "      <th>35343</th>\n",
       "      <td>25</td>\n",
       "      <td>24</td>\n",
       "    </tr>\n",
       "    <tr>\n",
       "      <th>35344</th>\n",
       "      <td>18</td>\n",
       "      <td>53</td>\n",
       "    </tr>\n",
       "    <tr>\n",
       "      <th>35345</th>\n",
       "      <td>25</td>\n",
       "      <td>20</td>\n",
       "    </tr>\n",
       "  </tbody>\n",
       "</table>\n",
       "<p>35346 rows × 2 columns</p>\n",
       "</div>"
      ],
      "text/plain": [
       "       Sim  Não\n",
       "0       30   26\n",
       "1       25   26\n",
       "2       28   26\n",
       "3       23   28\n",
       "4       27   29\n",
       "...    ...  ...\n",
       "35341   37   23\n",
       "35342   29   29\n",
       "35343   25   24\n",
       "35344   18   53\n",
       "35345   25   20\n",
       "\n",
       "[35346 rows x 2 columns]"
      ]
     },
     "execution_count": 24,
     "metadata": {},
     "output_type": "execute_result"
    }
   ],
   "source": [
    "from auxiliares import analise_levene\n",
    "\n",
    "data_imc = pd.DataFrame({\"Sim\":dados_imc_sim, \"Não\":dados_imc_nao})\n",
    "data_imc"
   ]
  },
  {
   "cell_type": "code",
   "execution_count": 26,
   "metadata": {},
   "outputs": [
    {
     "name": "stdout",
     "output_type": "stream",
     "text": [
      "Teste de Levene\n",
      "estatistica_levene=888.297\n",
      "Ao menos uma variância diferente (valor p: valor_p_lv=0.000)\n"
     ]
    }
   ],
   "source": [
    "analise_levene(data_imc, center='median')"
   ]
  },
  {
   "cell_type": "code",
   "execution_count": 27,
   "metadata": {},
   "outputs": [
    {
     "name": "stdout",
     "output_type": "stream",
     "text": [
      "estatistica_ttest=81.591\n",
      "Rejeita a hipótese nula (valor p: valor_p_ttest=0.000)\n"
     ]
    }
   ],
   "source": [
    "from auxiliares import analise_ttest_ind, analise_mannwhitneyu\n",
    "\n",
    "analise_ttest_ind(data_imc, variancias_iguais=False)"
   ]
  },
  {
   "cell_type": "code",
   "execution_count": 28,
   "metadata": {},
   "outputs": [
    {
     "name": "stdout",
     "output_type": "stream",
     "text": [
      "Teste Mann-Whitney\n",
      "estatistica_mann=861173484.000\n",
      "Rejeita a hipótese nula (valor p: valor_p_mann=0.000)\n"
     ]
    }
   ],
   "source": [
    "analise_mannwhitneyu(data_imc)"
   ]
  },
  {
   "cell_type": "markdown",
   "metadata": {},
   "source": [
    "## Os outliers interferem?"
   ]
  },
  {
   "cell_type": "code",
   "execution_count": 32,
   "metadata": {},
   "outputs": [],
   "source": [
    "def remove_outliers(dados, largura_bigodes=1.5):\n",
    "    q1 = dados.quantile(0.25)\n",
    "    q3 = dados.quantile(0.75)\n",
    "    iqr = q3 - q1\n",
    "\n",
    "    return dados[(dados >= q1 - largura_bigodes*iqr)&(dados <= q3 + largura_bigodes*iqr)]"
   ]
  },
  {
   "cell_type": "code",
   "execution_count": 33,
   "metadata": {},
   "outputs": [
    {
     "data": {
      "text/html": [
       "<div>\n",
       "<style scoped>\n",
       "    .dataframe tbody tr th:only-of-type {\n",
       "        vertical-align: middle;\n",
       "    }\n",
       "\n",
       "    .dataframe tbody tr th {\n",
       "        vertical-align: top;\n",
       "    }\n",
       "\n",
       "    .dataframe thead th {\n",
       "        text-align: right;\n",
       "    }\n",
       "</style>\n",
       "<table border=\"1\" class=\"dataframe\">\n",
       "  <thead>\n",
       "    <tr style=\"text-align: right;\">\n",
       "      <th></th>\n",
       "      <th>IMC</th>\n",
       "      <th>DiasProblemasMentais</th>\n",
       "      <th>DiasProblemasFisicos</th>\n",
       "    </tr>\n",
       "  </thead>\n",
       "  <tbody>\n",
       "    <tr>\n",
       "      <th>count</th>\n",
       "      <td>68511.000000</td>\n",
       "      <td>58876.000000</td>\n",
       "      <td>60068.000000</td>\n",
       "    </tr>\n",
       "    <tr>\n",
       "      <th>mean</th>\n",
       "      <td>29.129673</td>\n",
       "      <td>0.526615</td>\n",
       "      <td>1.880619</td>\n",
       "    </tr>\n",
       "    <tr>\n",
       "      <th>std</th>\n",
       "      <td>5.695466</td>\n",
       "      <td>1.271375</td>\n",
       "      <td>3.727202</td>\n",
       "    </tr>\n",
       "    <tr>\n",
       "      <th>min</th>\n",
       "      <td>13.000000</td>\n",
       "      <td>0.000000</td>\n",
       "      <td>0.000000</td>\n",
       "    </tr>\n",
       "    <tr>\n",
       "      <th>25%</th>\n",
       "      <td>25.000000</td>\n",
       "      <td>0.000000</td>\n",
       "      <td>0.000000</td>\n",
       "    </tr>\n",
       "    <tr>\n",
       "      <th>50%</th>\n",
       "      <td>28.000000</td>\n",
       "      <td>0.000000</td>\n",
       "      <td>0.000000</td>\n",
       "    </tr>\n",
       "    <tr>\n",
       "      <th>75%</th>\n",
       "      <td>33.000000</td>\n",
       "      <td>0.000000</td>\n",
       "      <td>2.000000</td>\n",
       "    </tr>\n",
       "    <tr>\n",
       "      <th>max</th>\n",
       "      <td>45.000000</td>\n",
       "      <td>5.000000</td>\n",
       "      <td>15.000000</td>\n",
       "    </tr>\n",
       "  </tbody>\n",
       "</table>\n",
       "</div>"
      ],
      "text/plain": [
       "                IMC  DiasProblemasMentais  DiasProblemasFisicos\n",
       "count  68511.000000          58876.000000          60068.000000\n",
       "mean      29.129673              0.526615              1.880619\n",
       "std        5.695466              1.271375              3.727202\n",
       "min       13.000000              0.000000              0.000000\n",
       "25%       25.000000              0.000000              0.000000\n",
       "50%       28.000000              0.000000              0.000000\n",
       "75%       33.000000              0.000000              2.000000\n",
       "max       45.000000              5.000000             15.000000"
      ]
     },
     "execution_count": 33,
     "metadata": {},
     "output_type": "execute_result"
    }
   ],
   "source": [
    "df_sem_out = df.copy()\n",
    "\n",
    "for coluna in colunas_numericas:\n",
    "    df_sem_out[coluna] = remove_outliers(df_sem_out[coluna])\n",
    "\n",
    "df_sem_out.describe()"
   ]
  },
  {
   "cell_type": "code",
   "execution_count": 34,
   "metadata": {},
   "outputs": [
    {
     "name": "stdout",
     "output_type": "stream",
     "text": [
      "<class 'pandas.core.frame.DataFrame'>\n",
      "RangeIndex: 70692 entries, 0 to 70691\n",
      "Data columns (total 22 columns):\n",
      " #   Column                  Non-Null Count  Dtype   \n",
      "---  ------                  --------------  -----   \n",
      " 0   Diabetes                70692 non-null  category\n",
      " 1   PressaoAlta             70692 non-null  category\n",
      " 2   ColesterolAlto          70692 non-null  category\n",
      " 3   ColesterolExame         70692 non-null  category\n",
      " 4   IMC                     68511 non-null  float64 \n",
      " 5   Fumante                 70692 non-null  category\n",
      " 6   AVC                     70692 non-null  category\n",
      " 7   ProblemaCardiaco        70692 non-null  category\n",
      " 8   AtividadeFisica         70692 non-null  category\n",
      " 9   ComeFrutas              70692 non-null  category\n",
      " 10  ComeLegumes             70692 non-null  category\n",
      " 11  ConsumoBebidaAlcoolica  70692 non-null  category\n",
      " 12  PlanoSaude              70692 non-null  category\n",
      " 13  SemDinheiroConsultas    70692 non-null  category\n",
      " 14  SaudeGeral              70692 non-null  category\n",
      " 15  DiasProblemasMentais    58876 non-null  float64 \n",
      " 16  DiasProblemasFisicos    60068 non-null  float64 \n",
      " 17  DificuldadeAndar        70692 non-null  category\n",
      " 18  Genero                  70692 non-null  category\n",
      " 19  FaixaIdade              70692 non-null  category\n",
      " 20  Ensino                  70692 non-null  category\n",
      " 21  FaixaRenda              70692 non-null  category\n",
      "dtypes: category(19), float64(3)\n",
      "memory usage: 2.9 MB\n"
     ]
    }
   ],
   "source": [
    "df_sem_out.info()"
   ]
  },
  {
   "cell_type": "code",
   "execution_count": 36,
   "metadata": {},
   "outputs": [
    {
     "data": {
      "image/png": "[encoded data removed]",
      "text/plain": [
       "<Figure size 1000x400 with 3 Axes>"
      ]
     },
     "metadata": {},
     "output_type": "display_data"
    }
   ],
   "source": [
    "fig, axs = plt.subplots(1, 3, figsize=(10,4))\n",
    "\n",
    "for ax, coluna in zip(axs, colunas_numericas):\n",
    "    sns.boxplot(data = df_sem_out, x = coluna_alvo, y = coluna, ax = ax)\n",
    "\n",
    "plt.tight_layout()\n",
    "plt.show()"
   ]
  },
  {
   "cell_type": "code",
   "execution_count": 35,
   "metadata": {},
   "outputs": [
    {
     "data": {
      "image/png": "[encoded data removed]",
      "text/plain": [
       "<Figure size 1000x400 with 3 Axes>"
      ]
     },
     "metadata": {},
     "output_type": "display_data"
    }
   ],
   "source": [
    "fig, axs = plt.subplots(1, 3, figsize=(10,4))\n",
    "\n",
    "for ax, coluna in zip(axs, colunas_numericas):\n",
    "    sns.histplot(data = df_sem_out, x = coluna, hue = coluna_alvo, kde = True,ax = ax)\n",
    "\n",
    "plt.tight_layout()\n",
    "plt.show()\n",
    "\n"
   ]
  },
  {
   "cell_type": "code",
   "execution_count": 37,
   "metadata": {},
   "outputs": [
    {
     "data": {
      "text/html": [
       "<div>\n",
       "<style scoped>\n",
       "    .dataframe tbody tr th:only-of-type {\n",
       "        vertical-align: middle;\n",
       "    }\n",
       "\n",
       "    .dataframe tbody tr th {\n",
       "        vertical-align: top;\n",
       "    }\n",
       "\n",
       "    .dataframe thead th {\n",
       "        text-align: right;\n",
       "    }\n",
       "</style>\n",
       "<table border=\"1\" class=\"dataframe\">\n",
       "  <thead>\n",
       "    <tr style=\"text-align: right;\">\n",
       "      <th></th>\n",
       "      <th>IMC</th>\n",
       "      <th>DiasProblemasMentais</th>\n",
       "      <th>DiasProblemasFisicos</th>\n",
       "    </tr>\n",
       "    <tr>\n",
       "      <th>Diabetes</th>\n",
       "      <th></th>\n",
       "      <th></th>\n",
       "      <th></th>\n",
       "    </tr>\n",
       "  </thead>\n",
       "  <tbody>\n",
       "    <tr>\n",
       "      <th>Não</th>\n",
       "      <td>0.714415</td>\n",
       "      <td>2.454599</td>\n",
       "      <td>2.874805</td>\n",
       "    </tr>\n",
       "    <tr>\n",
       "      <th>Sim</th>\n",
       "      <td>0.323244</td>\n",
       "      <td>2.507093</td>\n",
       "      <td>1.856026</td>\n",
       "    </tr>\n",
       "  </tbody>\n",
       "</table>\n",
       "</div>"
      ],
      "text/plain": [
       "               IMC  DiasProblemasMentais  DiasProblemasFisicos\n",
       "Diabetes                                                      \n",
       "Não       0.714415              2.454599              2.874805\n",
       "Sim       0.323244              2.507093              1.856026"
      ]
     },
     "execution_count": 37,
     "metadata": {},
     "output_type": "execute_result"
    }
   ],
   "source": [
    "df_sem_out.groupby(coluna_alvo, observed=False).skew(numeric_only=True)\n"
   ]
  },
  {
   "cell_type": "code",
   "execution_count": 38,
   "metadata": {},
   "outputs": [
    {
     "data": {
      "text/html": [
       "<div>\n",
       "<style scoped>\n",
       "    .dataframe tbody tr th:only-of-type {\n",
       "        vertical-align: middle;\n",
       "    }\n",
       "\n",
       "    .dataframe tbody tr th {\n",
       "        vertical-align: top;\n",
       "    }\n",
       "\n",
       "    .dataframe thead th {\n",
       "        text-align: right;\n",
       "    }\n",
       "</style>\n",
       "<table border=\"1\" class=\"dataframe\">\n",
       "  <thead>\n",
       "    <tr style=\"text-align: right;\">\n",
       "      <th></th>\n",
       "      <th>IMC</th>\n",
       "      <th>DiasProblemasMentais</th>\n",
       "      <th>DiasProblemasFisicos</th>\n",
       "    </tr>\n",
       "    <tr>\n",
       "      <th>Diabetes</th>\n",
       "      <th></th>\n",
       "      <th></th>\n",
       "      <th></th>\n",
       "    </tr>\n",
       "  </thead>\n",
       "  <tbody>\n",
       "    <tr>\n",
       "      <th>Não</th>\n",
       "      <td>0.481335</td>\n",
       "      <td>5.003764</td>\n",
       "      <td>8.079214</td>\n",
       "    </tr>\n",
       "    <tr>\n",
       "      <th>Sim</th>\n",
       "      <td>-0.343434</td>\n",
       "      <td>5.185706</td>\n",
       "      <td>2.367289</td>\n",
       "    </tr>\n",
       "  </tbody>\n",
       "</table>\n",
       "</div>"
      ],
      "text/plain": [
       "               IMC  DiasProblemasMentais  DiasProblemasFisicos\n",
       "Diabetes                                                      \n",
       "Não       0.481335              5.003764              8.079214\n",
       "Sim      -0.343434              5.185706              2.367289"
      ]
     },
     "execution_count": 38,
     "metadata": {},
     "output_type": "execute_result"
    }
   ],
   "source": [
    "df_sem_out.groupby(coluna_alvo, observed=False)[colunas_numericas].apply(pd.DataFrame.kurtosis)"
   ]
  },
  {
   "cell_type": "code",
   "execution_count": 39,
   "metadata": {},
   "outputs": [
    {
     "data": {
      "text/html": [
       "<div>\n",
       "<style scoped>\n",
       "    .dataframe tbody tr th:only-of-type {\n",
       "        vertical-align: middle;\n",
       "    }\n",
       "\n",
       "    .dataframe tbody tr th {\n",
       "        vertical-align: top;\n",
       "    }\n",
       "\n",
       "    .dataframe thead th {\n",
       "        text-align: right;\n",
       "    }\n",
       "</style>\n",
       "<table border=\"1\" class=\"dataframe\">\n",
       "  <thead>\n",
       "    <tr style=\"text-align: right;\">\n",
       "      <th></th>\n",
       "      <th>Sim</th>\n",
       "      <th>Não</th>\n",
       "    </tr>\n",
       "  </thead>\n",
       "  <tbody>\n",
       "    <tr>\n",
       "      <th>0</th>\n",
       "      <td>30.0</td>\n",
       "      <td>26.0</td>\n",
       "    </tr>\n",
       "    <tr>\n",
       "      <th>1</th>\n",
       "      <td>25.0</td>\n",
       "      <td>26.0</td>\n",
       "    </tr>\n",
       "    <tr>\n",
       "      <th>2</th>\n",
       "      <td>28.0</td>\n",
       "      <td>26.0</td>\n",
       "    </tr>\n",
       "    <tr>\n",
       "      <th>3</th>\n",
       "      <td>23.0</td>\n",
       "      <td>28.0</td>\n",
       "    </tr>\n",
       "    <tr>\n",
       "      <th>4</th>\n",
       "      <td>27.0</td>\n",
       "      <td>29.0</td>\n",
       "    </tr>\n",
       "    <tr>\n",
       "      <th>...</th>\n",
       "      <td>...</td>\n",
       "      <td>...</td>\n",
       "    </tr>\n",
       "    <tr>\n",
       "      <th>35341</th>\n",
       "      <td>37.0</td>\n",
       "      <td>23.0</td>\n",
       "    </tr>\n",
       "    <tr>\n",
       "      <th>35342</th>\n",
       "      <td>29.0</td>\n",
       "      <td>29.0</td>\n",
       "    </tr>\n",
       "    <tr>\n",
       "      <th>35343</th>\n",
       "      <td>25.0</td>\n",
       "      <td>24.0</td>\n",
       "    </tr>\n",
       "    <tr>\n",
       "      <th>35344</th>\n",
       "      <td>18.0</td>\n",
       "      <td>NaN</td>\n",
       "    </tr>\n",
       "    <tr>\n",
       "      <th>35345</th>\n",
       "      <td>25.0</td>\n",
       "      <td>20.0</td>\n",
       "    </tr>\n",
       "  </tbody>\n",
       "</table>\n",
       "<p>35346 rows × 2 columns</p>\n",
       "</div>"
      ],
      "text/plain": [
       "        Sim   Não\n",
       "0      30.0  26.0\n",
       "1      25.0  26.0\n",
       "2      28.0  26.0\n",
       "3      23.0  28.0\n",
       "4      27.0  29.0\n",
       "...     ...   ...\n",
       "35341  37.0  23.0\n",
       "35342  29.0  29.0\n",
       "35343  25.0  24.0\n",
       "35344  18.0   NaN\n",
       "35345  25.0  20.0\n",
       "\n",
       "[35346 rows x 2 columns]"
      ]
     },
     "execution_count": 39,
     "metadata": {},
     "output_type": "execute_result"
    }
   ],
   "source": [
    "dados_imc_sim_sem_out = df_sem_out.query(\"Diabetes == 'Sim'\")[\"IMC\"].values\n",
    "dados_imc_nao_sem_out = df_sem_out.query(\"Diabetes == 'Não'\")[\"IMC\"].values\n",
    "\n",
    "data_imc_sem_out = pd.DataFrame({\"Sim\":dados_imc_sim_sem_out, \"Não\":dados_imc_nao_sem_out})\n",
    "data_imc_sem_out"
   ]
  },
  {
   "cell_type": "code",
   "execution_count": 41,
   "metadata": {},
   "outputs": [
    {
     "name": "stdout",
     "output_type": "stream",
     "text": [
      "KstestResult(statistic=0.10815079726309113, pvalue=0.0, statistic_location=27.0, statistic_sign=1)\n",
      "KstestResult(statistic=0.07345716240963451, pvalue=2.3370072025211114e-158, statistic_location=30.0, statistic_sign=1)\n"
     ]
    }
   ],
   "source": [
    "print(kstest(data_imc_sem_out['Não'], norm.cdf, args = (data_imc_sem_out['Não'].mean(), data_imc_sem_out['Não'].std()), nan_policy='omit'))\n",
    "print(kstest(data_imc_sem_out['Sim'], norm.cdf, args = (data_imc_sem_out['Sim'].mean(), data_imc_sem_out['Sim'].std()), nan_policy='omit'))"
   ]
  },
  {
   "cell_type": "code",
   "execution_count": 42,
   "metadata": {},
   "outputs": [
    {
     "name": "stdout",
     "output_type": "stream",
     "text": [
      "Teste de Levene\n",
      "estatistica_levene=532.986\n",
      "Ao menos uma variância diferente (valor p: valor_p_lv=0.000)\n"
     ]
    }
   ],
   "source": [
    "analise_levene(data_imc_sem_out, center='median')"
   ]
  },
  {
   "cell_type": "code",
   "execution_count": 43,
   "metadata": {},
   "outputs": [
    {
     "name": "stdout",
     "output_type": "stream",
     "text": [
      "estatistica_ttest=85.248\n",
      "Rejeita a hipótese nula (valor p: valor_p_ttest=0.000)\n"
     ]
    }
   ],
   "source": [
    "analise_ttest_ind(data_imc_sem_out, variancias_iguais=False)"
   ]
  },
  {
   "cell_type": "code",
   "execution_count": 44,
   "metadata": {},
   "outputs": [
    {
     "name": "stdout",
     "output_type": "stream",
     "text": [
      "Teste Mann-Whitney\n",
      "estatistica_mann=801702843.000\n",
      "Rejeita a hipótese nula (valor p: valor_p_mann=0.000)\n"
     ]
    }
   ],
   "source": [
    "analise_mannwhitneyu(data_imc_sem_out)"
   ]
  },
  {
   "cell_type": "markdown",
   "metadata": {},
   "source": [
    "## Variáveis categóricas"
   ]
  }
 ],
 "metadata": {
  "kernelspec": {
   "display_name": "Python 3",
   "language": "python",
   "name": "python3"
  },
  "language_info": {
   "codemirror_mode": {
    "name": "ipython",
    "version": 3
   },
   "file_extension": ".py",
   "mimetype": "text/x-python",
   "name": "python",
   "nbconvert_exporter": "python",
   "pygments_lexer": "ipython3",
   "version": "3.12.2"
  }
 },
 "nbformat": 4,
 "nbformat_minor": 4
}
