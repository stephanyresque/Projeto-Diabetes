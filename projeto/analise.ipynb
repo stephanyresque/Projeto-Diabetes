{
 "cells": [
  {
   "cell_type": "markdown",
   "metadata": {},
   "source": [
    "# Análise exploratória dos dados (EDA)"
   ]
  },
  {
   "cell_type": "markdown",
   "metadata": {},
   "source": [
    "O diabetes é uma doença crônica grave na qual os indivíduos perdem a capacidade de regular efetivamente os níveis de glicose no sangue e pode levar a uma redução na qualidade de vida e na expectativa de vida.\n",
    "\n",
    "O Sistema de Vigilância de Fatores de Risco Comportamentais (BRFSS) é uma pesquisa telefônica relacionada à saúde que é coletada anualmente pelo CDC (Centro de Controle e Prevenção de Doenças dos Estados Unidos). A cada ano, a pesquisa coleta respostas de milhares de americanos sobre comportamentos de risco relacionados à saúde, condições crônicas de saúde e o uso de serviços preventivos. Para este projeto, foi utilizado conjunto de dados disponível no Kaggle para o ano de 2015. \n",
    "\n",
    "https://www.kaggle.com/datasets/alexteboul/diabetes-health-indicators-dataset"
   ]
  },
  {
   "cell_type": "markdown",
   "metadata": {},
   "source": [
    "Dicionário de variáveis:\n",
    "\n",
    "- `Diabetes_binary`: 0 = sem diabetes, 1 = com diabetes\n",
    "- `HighBP`: 0 = sem pressão alta, 1 = com pressão alta\n",
    "- `HighChol`: 0 = sem colesterol alto, 1 = com colesterol alto\n",
    "- `CholCheck`: 0 = não fez exame de colesterol na vida, 1 = fez exame de colesterol alguma vez\n",
    "- `BMI`: Índice de Massa Corporal (IMC)\n",
    "- `Smoker`: 0 = não fumante, 1 = fumante\n",
    "- `Stroke`: 0 = sem histórico de AVC, 1 = com histórico de AVC\n",
    "- `HeartDiseaseorAttack`: 0 = sem histórico de doença cardíaca ou ataque cardíaco, 1 = com histórico de doença cardíaca ou ataque cardíaco\n",
    "- `PhysActivity`: 0 = não pratica atividade física, 1 = pratica atividade física\n",
    "- `Fruits`: 0 = não consome frutas, 1 = consome frutas\n",
    "- `Veggies`: 0 = não consome vegetais, 1 = consome vegetais\n",
    "- `HvyAlcoholConsump`: 0 = não consome álcool em altas quantidades, 1 = consome álcool em altas quantidades\n",
    "- `AnyHealthcare`: 0 = não tem plano de saúde, 1 = tem plano de saúde\n",
    "- `NoDocbcCost`: 0 = não foi ao médico por questões financeiras, 1 = foi ao médico por questões financeiras (últimos 12 meses)\n",
    "- `GenHlth`: Saúde geral (1 a 5) - 1 = Excelente, 2 = Muito boa, 3 = Boa, 4 = Aceitável, 5 = Ruim\n",
    "- `MentHlth`: Nos últimos 30 dias, quantos dias a saúde mental não foi boa (0 a 30)\n",
    "- `PhysHlth`: Nos últimos 30 dias, quantos dias a saúde física não foi boa (0 a 30)\n",
    "- `DiffWalk`: 0 = não tem dificuldade para caminhar, 1 = tem dificuldade para caminhar\n",
    "- `Sex`: 0 = feminino, 1 = masculino\n",
    "- `Age`: Idade em faixas 1 = 18-24; 2 = 25-29; 3 = 30-34; 4 = 35-39; 5 = 40-44; 6 = 45-49; 7 = 50-54; 8 = 55-59; 9 = 60-64; 10 = 65-69; 11 = 70-74; 12 = 75-79; 13 = 80+\n",
    "- `Education`: Níveis de ensino 1 = nunca frequentou a escola; 2 = escola primária; 3 = escola secundária incompleta ; 4 = escola secundária; 5 = faculdade incompleta ou curso técnico; 6 = completou faculdade ou diplomas superiores\n",
    "- `Income`: Renda anual (dólares) em faixas 1 = < 10.000; 2 = 10.000-14.999; 3 = 15.000-19.999; 4 = 20.000-24.999; 5 = 25.000-34.999; 6 = 35.000-49.999; 7 = 50.000-74.999; 8 = 75.000+"
   ]
  },
  {
   "cell_type": "code",
   "execution_count": 1,
   "metadata": {},
   "outputs": [],
   "source": [
    "PATH = 'C:\\\\Users\\\\steph\\\\OneDrive\\\\Documentos\\\\MeusProjetos\\\\Ciencia-de-dados\\\\dados_hash\\\\'"
   ]
  },
  {
   "cell_type": "code",
   "execution_count": 3,
   "metadata": {
    "metadata": {}
   },
   "outputs": [
    {
     "data": {
      "text/html": [
       "<div>\n",
       "<style scoped>\n",
       "    .dataframe tbody tr th:only-of-type {\n",
       "        vertical-align: middle;\n",
       "    }\n",
       "\n",
       "    .dataframe tbody tr th {\n",
       "        vertical-align: top;\n",
       "    }\n",
       "\n",
       "    .dataframe thead th {\n",
       "        text-align: right;\n",
       "    }\n",
       "</style>\n",
       "<table border=\"1\" class=\"dataframe\">\n",
       "  <thead>\n",
       "    <tr style=\"text-align: right;\">\n",
       "      <th></th>\n",
       "      <th>Diabetes</th>\n",
       "      <th>PressaoAlta</th>\n",
       "      <th>ColesterolAlto</th>\n",
       "      <th>ColesterolExame</th>\n",
       "      <th>IMC</th>\n",
       "      <th>Fumante</th>\n",
       "      <th>AVC</th>\n",
       "      <th>ProblemaCardiaco</th>\n",
       "      <th>AtividadeFisica</th>\n",
       "      <th>ComeFrutas</th>\n",
       "      <th>...</th>\n",
       "      <th>PlanoSaude</th>\n",
       "      <th>SemDinheiroConsultas</th>\n",
       "      <th>SaudeGeral</th>\n",
       "      <th>DiasProblemasMentais</th>\n",
       "      <th>DiasProblemasFisicos</th>\n",
       "      <th>DificuldadeAndar</th>\n",
       "      <th>Genero</th>\n",
       "      <th>FaixaIdade</th>\n",
       "      <th>Ensino</th>\n",
       "      <th>FaixaRenda</th>\n",
       "    </tr>\n",
       "  </thead>\n",
       "  <tbody>\n",
       "    <tr>\n",
       "      <th>0</th>\n",
       "      <td>Não</td>\n",
       "      <td>Sim</td>\n",
       "      <td>Não</td>\n",
       "      <td>Sim</td>\n",
       "      <td>26</td>\n",
       "      <td>Não</td>\n",
       "      <td>Não</td>\n",
       "      <td>Não</td>\n",
       "      <td>Sim</td>\n",
       "      <td>Não</td>\n",
       "      <td>...</td>\n",
       "      <td>Sim</td>\n",
       "      <td>Não</td>\n",
       "      <td>Boa</td>\n",
       "      <td>5</td>\n",
       "      <td>30</td>\n",
       "      <td>Não</td>\n",
       "      <td>Masculino</td>\n",
       "      <td>35-39</td>\n",
       "      <td>Faculdade +</td>\n",
       "      <td>$75.000+</td>\n",
       "    </tr>\n",
       "    <tr>\n",
       "      <th>1</th>\n",
       "      <td>Não</td>\n",
       "      <td>Sim</td>\n",
       "      <td>Sim</td>\n",
       "      <td>Sim</td>\n",
       "      <td>26</td>\n",
       "      <td>Sim</td>\n",
       "      <td>Sim</td>\n",
       "      <td>Não</td>\n",
       "      <td>Não</td>\n",
       "      <td>Sim</td>\n",
       "      <td>...</td>\n",
       "      <td>Sim</td>\n",
       "      <td>Não</td>\n",
       "      <td>Boa</td>\n",
       "      <td>0</td>\n",
       "      <td>0</td>\n",
       "      <td>Não</td>\n",
       "      <td>Masculino</td>\n",
       "      <td>75-79</td>\n",
       "      <td>Faculdade +</td>\n",
       "      <td>$75.000+</td>\n",
       "    </tr>\n",
       "    <tr>\n",
       "      <th>2</th>\n",
       "      <td>Não</td>\n",
       "      <td>Não</td>\n",
       "      <td>Não</td>\n",
       "      <td>Sim</td>\n",
       "      <td>26</td>\n",
       "      <td>Não</td>\n",
       "      <td>Não</td>\n",
       "      <td>Não</td>\n",
       "      <td>Sim</td>\n",
       "      <td>Sim</td>\n",
       "      <td>...</td>\n",
       "      <td>Sim</td>\n",
       "      <td>Não</td>\n",
       "      <td>Excelente</td>\n",
       "      <td>0</td>\n",
       "      <td>10</td>\n",
       "      <td>Não</td>\n",
       "      <td>Masculino</td>\n",
       "      <td>80+</td>\n",
       "      <td>Faculdade +</td>\n",
       "      <td>$75.000+</td>\n",
       "    </tr>\n",
       "    <tr>\n",
       "      <th>3</th>\n",
       "      <td>Não</td>\n",
       "      <td>Sim</td>\n",
       "      <td>Sim</td>\n",
       "      <td>Sim</td>\n",
       "      <td>28</td>\n",
       "      <td>Sim</td>\n",
       "      <td>Não</td>\n",
       "      <td>Não</td>\n",
       "      <td>Sim</td>\n",
       "      <td>Sim</td>\n",
       "      <td>...</td>\n",
       "      <td>Sim</td>\n",
       "      <td>Não</td>\n",
       "      <td>Boa</td>\n",
       "      <td>0</td>\n",
       "      <td>3</td>\n",
       "      <td>Não</td>\n",
       "      <td>Masculino</td>\n",
       "      <td>70-74</td>\n",
       "      <td>Faculdade +</td>\n",
       "      <td>$75.000+</td>\n",
       "    </tr>\n",
       "    <tr>\n",
       "      <th>4</th>\n",
       "      <td>Não</td>\n",
       "      <td>Não</td>\n",
       "      <td>Não</td>\n",
       "      <td>Sim</td>\n",
       "      <td>29</td>\n",
       "      <td>Sim</td>\n",
       "      <td>Não</td>\n",
       "      <td>Não</td>\n",
       "      <td>Sim</td>\n",
       "      <td>Sim</td>\n",
       "      <td>...</td>\n",
       "      <td>Sim</td>\n",
       "      <td>Não</td>\n",
       "      <td>Muito boa</td>\n",
       "      <td>0</td>\n",
       "      <td>0</td>\n",
       "      <td>Não</td>\n",
       "      <td>Feminino</td>\n",
       "      <td>55-59</td>\n",
       "      <td>Faculdade inc. ou Técnico</td>\n",
       "      <td>$75.000+</td>\n",
       "    </tr>\n",
       "  </tbody>\n",
       "</table>\n",
       "<p>5 rows × 22 columns</p>\n",
       "</div>"
      ],
      "text/plain": [
       "  Diabetes PressaoAlta ColesterolAlto ColesterolExame  IMC Fumante  AVC  \\\n",
       "0      Não         Sim            Não             Sim   26     Não  Não   \n",
       "1      Não         Sim            Sim             Sim   26     Sim  Sim   \n",
       "2      Não         Não            Não             Sim   26     Não  Não   \n",
       "3      Não         Sim            Sim             Sim   28     Sim  Não   \n",
       "4      Não         Não            Não             Sim   29     Sim  Não   \n",
       "\n",
       "  ProblemaCardiaco AtividadeFisica ComeFrutas  ... PlanoSaude  \\\n",
       "0              Não             Sim        Não  ...        Sim   \n",
       "1              Não             Não        Sim  ...        Sim   \n",
       "2              Não             Sim        Sim  ...        Sim   \n",
       "3              Não             Sim        Sim  ...        Sim   \n",
       "4              Não             Sim        Sim  ...        Sim   \n",
       "\n",
       "  SemDinheiroConsultas SaudeGeral DiasProblemasMentais DiasProblemasFisicos  \\\n",
       "0                  Não        Boa                    5                   30   \n",
       "1                  Não        Boa                    0                    0   \n",
       "2                  Não  Excelente                    0                   10   \n",
       "3                  Não        Boa                    0                    3   \n",
       "4                  Não  Muito boa                    0                    0   \n",
       "\n",
       "   DificuldadeAndar     Genero FaixaIdade                     Ensino  \\\n",
       "0               Não  Masculino      35-39                Faculdade +   \n",
       "1               Não  Masculino      75-79                Faculdade +   \n",
       "2               Não  Masculino        80+                Faculdade +   \n",
       "3               Não  Masculino      70-74                Faculdade +   \n",
       "4               Não   Feminino      55-59  Faculdade inc. ou Técnico   \n",
       "\n",
       "  FaixaRenda  \n",
       "0   $75.000+  \n",
       "1   $75.000+  \n",
       "2   $75.000+  \n",
       "3   $75.000+  \n",
       "4   $75.000+  \n",
       "\n",
       "[5 rows x 22 columns]"
      ]
     },
     "execution_count": 3,
     "metadata": {},
     "output_type": "execute_result"
    }
   ],
   "source": [
    "import pandas as pd\n",
    "\n",
    "BASE_DIABETES_TRATADA =f\"{PATH}diabetes_tratado.parquet\"\n",
    "\n",
    "df = pd.read_parquet(BASE_DIABETES_TRATADA)\n",
    "\n",
    "df.head()"
   ]
  },
  {
   "cell_type": "code",
   "execution_count": 4,
   "metadata": {},
   "outputs": [
    {
     "name": "stdout",
     "output_type": "stream",
     "text": [
      "<class 'pandas.core.frame.DataFrame'>\n",
      "RangeIndex: 70692 entries, 0 to 70691\n",
      "Data columns (total 22 columns):\n",
      " #   Column                  Non-Null Count  Dtype   \n",
      "---  ------                  --------------  -----   \n",
      " 0   Diabetes                70692 non-null  category\n",
      " 1   PressaoAlta             70692 non-null  category\n",
      " 2   ColesterolAlto          70692 non-null  category\n",
      " 3   ColesterolExame         70692 non-null  category\n",
      " 4   IMC                     70692 non-null  int8    \n",
      " 5   Fumante                 70692 non-null  category\n",
      " 6   AVC                     70692 non-null  category\n",
      " 7   ProblemaCardiaco        70692 non-null  category\n",
      " 8   AtividadeFisica         70692 non-null  category\n",
      " 9   ComeFrutas              70692 non-null  category\n",
      " 10  ComeLegumes             70692 non-null  category\n",
      " 11  ConsumoBebidaAlcoolica  70692 non-null  category\n",
      " 12  PlanoSaude              70692 non-null  category\n",
      " 13  SemDinheiroConsultas    70692 non-null  category\n",
      " 14  SaudeGeral              70692 non-null  category\n",
      " 15  DiasProblemasMentais    70692 non-null  int8    \n",
      " 16  DiasProblemasFisicos    70692 non-null  int8    \n",
      " 17  DificuldadeAndar        70692 non-null  category\n",
      " 18  Genero                  70692 non-null  category\n",
      " 19  FaixaIdade              70692 non-null  category\n",
      " 20  Ensino                  70692 non-null  category\n",
      " 21  FaixaRenda              70692 non-null  category\n",
      "dtypes: category(19), int8(3)\n",
      "memory usage: 1.5 MB\n"
     ]
    }
   ],
   "source": [
    "df.info()"
   ]
  },
  {
   "cell_type": "code",
   "execution_count": 5,
   "metadata": {},
   "outputs": [],
   "source": [
    "colunas_numericas = df.select_dtypes(include='number').columns.tolist()\n",
    "\n",
    "coluna_alvo = 'Diabetes'\n",
    "\n",
    "colunas_categoricas = df.select_dtypes(include='category').columns.tolist()\n",
    "colunas_categoricas.remove(coluna_alvo)\n",
    "\n",
    "colunas_binarias = df.nunique()[df.nunique() == 2].index.tolist()\n",
    "colunas_binarias.remove(coluna_alvo)\n",
    "\n",
    "colunas_nao_binarias = list(set(colunas_categoricas) - set(colunas_binarias))"
   ]
  },
  {
   "cell_type": "code",
   "execution_count": 6,
   "metadata": {},
   "outputs": [
    {
     "data": {
      "text/plain": [
       "['IMC', 'DiasProblemasMentais', 'DiasProblemasFisicos']"
      ]
     },
     "execution_count": 6,
     "metadata": {},
     "output_type": "execute_result"
    }
   ],
   "source": [
    "colunas_numericas"
   ]
  },
  {
   "cell_type": "code",
   "execution_count": 7,
   "metadata": {},
   "outputs": [
    {
     "data": {
      "text/plain": [
       "'Diabetes'"
      ]
     },
     "execution_count": 7,
     "metadata": {},
     "output_type": "execute_result"
    }
   ],
   "source": [
    "coluna_alvo"
   ]
  },
  {
   "cell_type": "code",
   "execution_count": 8,
   "metadata": {},
   "outputs": [
    {
     "data": {
      "text/plain": [
       "['PressaoAlta',\n",
       " 'ColesterolAlto',\n",
       " 'ColesterolExame',\n",
       " 'Fumante',\n",
       " 'AVC',\n",
       " 'ProblemaCardiaco',\n",
       " 'AtividadeFisica',\n",
       " 'ComeFrutas',\n",
       " 'ComeLegumes',\n",
       " 'ConsumoBebidaAlcoolica',\n",
       " 'PlanoSaude',\n",
       " 'SemDinheiroConsultas',\n",
       " 'SaudeGeral',\n",
       " 'DificuldadeAndar',\n",
       " 'Genero',\n",
       " 'FaixaIdade',\n",
       " 'Ensino',\n",
       " 'FaixaRenda']"
      ]
     },
     "execution_count": 8,
     "metadata": {},
     "output_type": "execute_result"
    }
   ],
   "source": [
    "colunas_categoricas"
   ]
  },
  {
   "cell_type": "code",
   "execution_count": 9,
   "metadata": {},
   "outputs": [
    {
     "data": {
      "text/plain": [
       "['PressaoAlta',\n",
       " 'ColesterolAlto',\n",
       " 'ColesterolExame',\n",
       " 'Fumante',\n",
       " 'AVC',\n",
       " 'ProblemaCardiaco',\n",
       " 'AtividadeFisica',\n",
       " 'ComeFrutas',\n",
       " 'ComeLegumes',\n",
       " 'ConsumoBebidaAlcoolica',\n",
       " 'PlanoSaude',\n",
       " 'SemDinheiroConsultas',\n",
       " 'DificuldadeAndar',\n",
       " 'Genero']"
      ]
     },
     "execution_count": 9,
     "metadata": {},
     "output_type": "execute_result"
    }
   ],
   "source": [
    "colunas_binarias"
   ]
  },
  {
   "cell_type": "code",
   "execution_count": 10,
   "metadata": {},
   "outputs": [
    {
     "data": {
      "text/plain": [
       "['SaudeGeral', 'Ensino', 'FaixaIdade', 'FaixaRenda']"
      ]
     },
     "execution_count": 10,
     "metadata": {},
     "output_type": "execute_result"
    }
   ],
   "source": [
    "colunas_nao_binarias"
   ]
  },
  {
   "cell_type": "markdown",
   "metadata": {},
   "source": [
    "## Variáveis numéricas"
   ]
  }
 ],
 "metadata": {
  "kernelspec": {
   "display_name": "Python 3",
   "language": "python",
   "name": "python3"
  },
  "language_info": {
   "codemirror_mode": {
    "name": "ipython",
    "version": 3
   },
   "file_extension": ".py",
   "mimetype": "text/x-python",
   "name": "python",
   "nbconvert_exporter": "python",
   "pygments_lexer": "ipython3",
   "version": "3.12.2"
  }
 },
 "nbformat": 4,
 "nbformat_minor": 4
}
